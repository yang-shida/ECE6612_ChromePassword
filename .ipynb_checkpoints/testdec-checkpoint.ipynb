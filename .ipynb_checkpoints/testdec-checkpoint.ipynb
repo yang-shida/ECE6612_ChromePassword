{
 "cells": [
  {
   "cell_type": "code",
   "execution_count": 11,
   "id": "28b8da27",
   "metadata": {},
   "outputs": [],
   "source": [
    "import os\n",
    "import sys\n",
    "import sqlite3\n",
    "import win32crypt\n",
    "import json\n",
    "import base64\n",
    "import csv\n",
    "from shutil import copyfile\n",
    "from Crypto.Cipher import AES"
   ]
  },
  {
   "cell_type": "code",
   "execution_count": 12,
   "id": "3cc0154a",
   "metadata": {},
   "outputs": [],
   "source": [
    "path2file='test.txt'\n",
    "file = open(path2file, 'rb')"
   ]
  },
  {
   "cell_type": "code",
   "execution_count": 13,
   "id": "fa69d54e",
   "metadata": {},
   "outputs": [],
   "source": [
    "lines=file.readlines()\n",
    "internal_key = lines[0]\n",
    "nonce = lines[1]\n",
    "encrypted_pwd = lines[2]"
   ]
  },
  {
   "cell_type": "code",
   "execution_count": 17,
   "id": "4f874d92",
   "metadata": {},
   "outputs": [],
   "source": [
    "internal_key=internal_key[:-2]\n",
    "nonce = nonce[:-2]\n",
    "encrypted_pwd = encrypted_pwd[:-2]"
   ]
  },
  {
   "cell_type": "code",
   "execution_count": 18,
   "id": "95e518e5",
   "metadata": {},
   "outputs": [],
   "source": [
    "cipher = AES.new(internal_key,AES.MODE_GCM,nonce=nonce)\n"
   ]
  },
  {
   "cell_type": "code",
   "execution_count": 19,
   "id": "7474f390",
   "metadata": {},
   "outputs": [
    {
     "ename": "UnicodeDecodeError",
     "evalue": "'utf-8' codec can't decode byte 0xdb in position 2: invalid continuation byte",
     "output_type": "error",
     "traceback": [
      "\u001b[1;31m---------------------------------------------------------------------------\u001b[0m",
      "\u001b[1;31mUnicodeDecodeError\u001b[0m                        Traceback (most recent call last)",
      "\u001b[1;32m<ipython-input-19-1781cd7b12cb>\u001b[0m in \u001b[0;36m<module>\u001b[1;34m\u001b[0m\n\u001b[1;32m----> 1\u001b[1;33m \u001b[0mplaintext\u001b[0m \u001b[1;33m=\u001b[0m \u001b[0mcipher\u001b[0m\u001b[1;33m.\u001b[0m\u001b[0mdecrypt\u001b[0m\u001b[1;33m(\u001b[0m\u001b[0mencrypted_pwd\u001b[0m\u001b[1;33m)\u001b[0m\u001b[1;33m.\u001b[0m\u001b[0mdecode\u001b[0m\u001b[1;33m(\u001b[0m\u001b[1;34m\"UTF-8\"\u001b[0m\u001b[1;33m)\u001b[0m\u001b[1;33m\u001b[0m\u001b[1;33m\u001b[0m\u001b[0m\n\u001b[0m",
      "\u001b[1;31mUnicodeDecodeError\u001b[0m: 'utf-8' codec can't decode byte 0xdb in position 2: invalid continuation byte"
     ]
    }
   ],
   "source": [
    "plaintext = cipher.decrypt(encrypted_pwd).decode(\"UTF-8\")"
   ]
  },
  {
   "cell_type": "code",
   "execution_count": 7,
   "id": "4cfa5492",
   "metadata": {},
   "outputs": [
    {
     "ename": "NameError",
     "evalue": "name 'plaintext' is not defined",
     "output_type": "error",
     "traceback": [
      "\u001b[1;31m---------------------------------------------------------------------------\u001b[0m",
      "\u001b[1;31mNameError\u001b[0m                                 Traceback (most recent call last)",
      "\u001b[1;32m<ipython-input-7-d58bf2436c1b>\u001b[0m in \u001b[0;36m<module>\u001b[1;34m\u001b[0m\n\u001b[1;32m----> 1\u001b[1;33m \u001b[0mplaintext\u001b[0m\u001b[1;33m\u001b[0m\u001b[1;33m\u001b[0m\u001b[0m\n\u001b[0m",
      "\u001b[1;31mNameError\u001b[0m: name 'plaintext' is not defined"
     ]
    }
   ],
   "source": [
    "plaintext"
   ]
  },
  {
   "cell_type": "code",
   "execution_count": null,
   "id": "c6469a64",
   "metadata": {},
   "outputs": [],
   "source": []
  }
 ],
 "metadata": {
  "kernelspec": {
   "display_name": "Python 3",
   "language": "python",
   "name": "python3"
  },
  "language_info": {
   "codemirror_mode": {
    "name": "ipython",
    "version": 3
   },
   "file_extension": ".py",
   "mimetype": "text/x-python",
   "name": "python",
   "nbconvert_exporter": "python",
   "pygments_lexer": "ipython3",
   "version": "3.8.8"
  }
 },
 "nbformat": 4,
 "nbformat_minor": 5
}

{
 "cells": [
  {
   "cell_type": "code",
   "execution_count": 1,
   "id": "28b8da27",
   "metadata": {},
   "outputs": [],
   "source": [
    "import os\n",
    "import sys\n",
    "import sqlite3\n",
    "import win32crypt\n",
    "import json\n",
    "import base64\n",
    "import csv\n",
    "from shutil import copyfile\n",
    "from Crypto.Cipher import AES"
   ]
  },
  {
   "cell_type": "code",
   "execution_count": 2,
   "id": "3cc0154a",
   "metadata": {},
   "outputs": [],
   "source": [
    "path2file='test.txt'\n",
    "file = open(path2file, 'rb')"
   ]
  },
  {
   "cell_type": "code",
   "execution_count": 3,
   "id": "fa69d54e",
   "metadata": {},
   "outputs": [],
   "source": [
    "lines=file.readlines()\n",
    "internal_key = lines[0]\n",
    "nonce = lines[1]\n",
    "encrypted_pwd = lines[2]"
   ]
  },
  {
   "cell_type": "code",
   "execution_count": 4,
   "id": "4f874d92",
   "metadata": {},
   "outputs": [],
   "source": [
    "internal_key=internal_key[:-2]\n",
    "nonce = nonce[:-2]\n",
    "encrypted_pwd = encrypted_pwd[:-2]"
   ]
  },
  {
   "cell_type": "code",
   "execution_count": 5,
   "id": "95e518e5",
   "metadata": {},
   "outputs": [],
   "source": [
    "cipher = AES.new(internal_key,AES.MODE_GCM,nonce=nonce)\n"
   ]
  },
  {
   "cell_type": "code",
   "execution_count": 6,
   "id": "7474f390",
   "metadata": {},
   "outputs": [],
   "source": [
    "plaintext = cipher.decrypt(encrypted_pwd).decode(\"UTF-8\")"
   ]
  },
  {
   "cell_type": "code",
   "execution_count": 7,
   "id": "4cfa5492",
   "metadata": {},
   "outputs": [
    {
     "data": {
      "text/plain": [
       "'555222aA'"
      ]
     },
     "execution_count": 7,
     "metadata": {},
     "output_type": "execute_result"
    }
   ],
   "source": [
    "plaintext"
   ]
  },
  {
   "cell_type": "code",
   "execution_count": null,
   "id": "c6469a64",
   "metadata": {},
   "outputs": [],
   "source": []
  }
 ],
 "metadata": {
  "kernelspec": {
   "display_name": "Python 3",
   "language": "python",
   "name": "python3"
  },
  "language_info": {
   "codemirror_mode": {
    "name": "ipython",
    "version": 3
   },
   "file_extension": ".py",
   "mimetype": "text/x-python",
   "name": "python",
   "nbconvert_exporter": "python",
   "pygments_lexer": "ipython3",
   "version": "3.8.8"
  }
 },
 "nbformat": 4,
 "nbformat_minor": 5
}
